# %load /home/mithrillion/default_imports.py
import numpy as np
import pandas as pd
import matplotlib.pyplot as plt
import seaborn as sns
from matplotlib import style
style.use('ggplot')
plt.rcParams['figure.figsize'] = (12, 8)
%matplotlib inline
import re
from collections import Counter
from functools import partial

import folium
import boto3
from time import sleep
