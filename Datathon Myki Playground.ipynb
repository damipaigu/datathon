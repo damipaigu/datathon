{
 "cells": [
  {
   "cell_type": "code",
   "execution_count": null,
   "metadata": {},
   "outputs": [],
   "source": [
    "# %load /home/mithrillion/default_imports.py\n",
    "import numpy as np\n",
    "import pandas as pd\n",
    "import matplotlib.pyplot as plt\n",
    "import seaborn as sns\n",
    "from matplotlib import style\n",
    "style.use('ggplot')\n",
    "plt.rcParams['figure.figsize'] = (12, 8)\n",
    "%matplotlib inline\n",
    "import re\n",
    "from collections import Counter\n",
    "from functools import partial\n",
    "\n",
    "import folium\n",
    "import boto3\n",
    "from time import sleep"
   ]
  },
  {
   "cell_type": "code",
   "execution_count": null,
   "metadata": {},
   "outputs": [],
   "source": [
    "client = boto3.client('athena')"
   ]
  },
  {
   "cell_type": "code",
   "execution_count": null,
   "metadata": {},
   "outputs": [],
   "source": [
    "def query_to_df(res):\n",
    "    colnames = [x['Name'] for x in res['ResultSet']['ResultSetMetadata']['ColumnInfo']]\n",
    "    typemap = {'bigint': np.int32, 'varchar': np.str, 'double': np.double, 'boolean': np.bool}\n",
    "    coltypes = [typemap[x['Type']] for x in res['ResultSet']['ResultSetMetadata']['ColumnInfo']]\n",
    "    rows = [[item['VarCharValue'] for item in row['Data']] for row in res['ResultSet']['Rows'][1:]]\n",
    "    df = pd.DataFrame(rows, columns=colnames)\n",
    "    for n, t in zip(colnames, coltypes):\n",
    "        if t == np.bool:\n",
    "            df[n] = (df[n] == 'true')\n",
    "        df[n] = df[n].astype(t)\n",
    "    return df"
   ]
  },
  {
   "cell_type": "code",
   "execution_count": null,
   "metadata": {},
   "outputs": [],
   "source": [
    "def get_result(job):\n",
    "    while (True):\n",
    "        try:\n",
    "            paginator = client.get_paginator('get_query_results')\n",
    "            p = paginator.paginate(QueryExecutionId=job['QueryExecutionId'])\n",
    "            return pd.concat([query_to_df(part) for part in p], axis=0)\n",
    "        except Exception as e:\n",
    "            if str(e)[-7:] == 'RUNNING':\n",
    "                sleep(10)\n",
    "            else:\n",
    "                print(e)\n",
    "                break"
   ]
  }
 ],
 "metadata": {
  "kernelspec": {
   "display_name": "Python 3",
   "language": "python",
   "name": "python3"
  },
  "language_info": {
   "codemirror_mode": {
    "name": "ipython",
    "version": 3
   },
   "file_extension": ".py",
   "mimetype": "text/x-python",
   "name": "python",
   "nbconvert_exporter": "python",
   "pygments_lexer": "ipython3",
   "version": "3.6.5"
  }
 },
 "nbformat": 4,
 "nbformat_minor": 2
}
